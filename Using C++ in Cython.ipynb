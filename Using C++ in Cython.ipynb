{
 "cells": [
  {
   "cell_type": "markdown",
   "metadata": {},
   "source": [
    "## 在Cython中使用C++\n",
    "作者: tushushu  \n",
    "项目地址: https://github.com/tushushu/flying-python"
   ]
  },
  {
   "cell_type": "markdown",
   "metadata": {},
   "source": [
    "## 1. 在Jupyter Notebook上使用C++ \n",
    "- 首先加载Cython扩展，使用魔术命令  ``%load_ext Cython``\n",
    "- 接下来运行Cython代码，使用魔术命令  ``%%cython --cplus``\n",
    "- 如果使用MacOS，使用魔术命令  ``%%cython --cplus --compile-args=-stdlib=libc++ --link-args=-stdlib=libc++``，详情请参考https://stackoverflow.com/questions/57367764/cant-import-cpplist-into-cython"
   ]
  },
  {
   "cell_type": "code",
   "execution_count": 1,
   "metadata": {},
   "outputs": [],
   "source": [
    "%load_ext Cython"
   ]
  },
  {
   "cell_type": "code",
   "execution_count": 2,
   "metadata": {},
   "outputs": [
    {
     "name": "stdout",
     "output_type": "stream",
     "text": [
      "Hello world!\n"
     ]
    }
   ],
   "source": [
    "%%cython --cplus --compile-args=-stdlib=libc++ --link-args=-stdlib=libc++\n",
    "# 注意: 使用 'cimport' 而不是 'import'\n",
    "from libcpp.string cimport string\n",
    "cdef string s\n",
    "s = b\"Hello world!\"\n",
    "print(s.decode(\"utf-8\"))"
   ]
  },
  {
   "cell_type": "markdown",
   "metadata": {},
   "source": [
    "## 2. C++和Python类型的相互转换"
   ]
  },
  {
   "cell_type": "markdown",
   "metadata": {},
   "source": [
    "| Python type| C++ type | Python type |\n",
    "| ------ | ------ | ------ |\n",
    "| bytes | std::string | bytes |\n",
    "|iterable|std::vector|list|\n",
    "|iterable|std::list|list|\n",
    "|iterable|std::set|set|\n",
    "|iterable (len 2)|std::pair|tuple (len 2)|"
   ]
  },
  {
   "cell_type": "markdown",
   "metadata": {},
   "source": [
    "## 3. 使用C++ STL"
   ]
  },
  {
   "cell_type": "markdown",
   "metadata": {},
   "source": [
    "### 3.1 使用C++ Vector\n",
    "可以替代Python的List。\n",
    "1. 初始化 - 通过Python的可迭代对象进行初始化，需要声明变量的嵌套类型\n",
    "2. 遍历 - 让index自增，通过while循环进行遍历\n",
    "3. 访问 - 和Python一样使用'[]'操作符对元素进行访问\n",
    "4. 追加 - 与Python list的append方法相似，使用C++ Vector的push_back方法追加元素\n",
    "\n",
    "最后，我们通过分别实现Python和C++版本的元素计数函数来对比性能，C++大约快240倍左右。  \n",
    "注意: 为了公平起见，函数没有传入参数，而是直接访问函数体外部的变量。避免计入C++版本把Python列表转换为C++ Vector的耗时。如果计入这部分耗时，C++的版本大约快4倍左右。"
   ]
  },
  {
   "cell_type": "code",
   "execution_count": 3,
   "metadata": {},
   "outputs": [
    {
     "name": "stdout",
     "output_type": "stream",
     "text": [
      "开始遍历...\n",
      "\t第0个位置的元素是0\n",
      "\t第1个位置的元素是1\n",
      "\t第2个位置的元素是2\n",
      "\t第3个位置的元素是3\n",
      "\t第4个位置的元素是4\n",
      "\n",
      "追加元素之后vec变为 [0, 1, 2, 3, 4, 5]\n"
     ]
    }
   ],
   "source": [
    "%%cython --cplus --compile-args=-stdlib=libc++ --link-args=-stdlib=libc++\n",
    "from libcpp.vector cimport vector\n",
    "# 通过Python对象初始化\n",
    "cdef vector[int] vec = range(5)\n",
    "# 遍历\n",
    "cdef:\n",
    "    int i = 0\n",
    "    int n = vec.size()\n",
    "print(\"开始遍历...\")\n",
    "while i < n:\n",
    "    # 访问\n",
    "    print(\"\\t第%d个位置的元素是%d\" % (i, vec[i]))\n",
    "    i += 1\n",
    "print()\n",
    "# 追加\n",
    "vec.push_back(5)\n",
    "print(\"追加元素之后vec变为\", vec)"
   ]
  },
  {
   "cell_type": "code",
   "execution_count": 4,
   "metadata": {},
   "outputs": [
    {
     "name": "stdout",
     "output_type": "stream",
     "text": [
      "用Python来实现，计算结果为100!\n"
     ]
    }
   ],
   "source": [
    "arr = [x // 100 for x in range(1000)]\n",
    "target = 6\n",
    "\n",
    "def count_py():\n",
    "    return sum(1 for x in arr if x == target)\n",
    "\n",
    "print(\"用Python来实现，计算结果为%d!\"% count_py())"
   ]
  },
  {
   "cell_type": "code",
   "execution_count": 5,
   "metadata": {},
   "outputs": [
    {
     "name": "stdout",
     "output_type": "stream",
     "text": [
      "用Cython(C++)来实现，计算结果为100!\n"
     ]
    }
   ],
   "source": [
    "%%cython --cplus --compile-args=-stdlib=libc++ --link-args=-stdlib=libc++\n",
    "from libcpp.vector cimport vector\n",
    "\n",
    "cdef:\n",
    "    int target = 6\n",
    "    vector[int] v = [x // 100 for x in range(1000)]\n",
    "\n",
    "cdef int _count_cpp():\n",
    "    cdef:\n",
    "        int i = 0\n",
    "        int n = v.size()\n",
    "        int ret = 0\n",
    "    while i < n:\n",
    "        if v[i] == target:\n",
    "            ret += 1\n",
    "        i += 1\n",
    "    return ret\n",
    "\n",
    "def count_cpp():\n",
    "    return _count_cpp()\n",
    "\n",
    "print(\"用Cython(C++)来实现，计算结果为%d!\"% count_cpp())"
   ]
  },
  {
   "cell_type": "code",
   "execution_count": 6,
   "metadata": {},
   "outputs": [
    {
     "name": "stdout",
     "output_type": "stream",
     "text": [
      "对比Python版本与C++版本的性能...\n",
      "29.9 µs ± 995 ns per loop (mean ± std. dev. of 7 runs, 10000 loops each)\n",
      "130 ns ± 2.91 ns per loop (mean ± std. dev. of 7 runs, 10000000 loops each)\n"
     ]
    }
   ],
   "source": [
    "print(\"对比Python版本与C++版本的性能...\")\n",
    "%timeit count_py()\n",
    "%timeit count_cpp()"
   ]
  },
  {
   "cell_type": "markdown",
   "metadata": {},
   "source": [
    "### 3.2 使用C++ Unordered Map\n",
    "可以替代Python的Dict。\n",
    "1. 初始化 - 通过Python的可迭代对象进行初始化，需要声明变量的嵌套类型\n",
    "2. 遍历 - 让泛型指针自增，通过while循环进行遍历\n",
    "3. 访问 - 使用deref(C++中的'*'操作符)来解引用，返回pair对象，通过.first来访问key, .second来访问Value\n",
    "4. 查找 - 使用unordered_map.count，返回1或0；或者用unordered_map.find，返回一个泛型指针，如果指针指向unordered_map.end，则表示未找到。\n",
    "5. 追加/修改 - unordered_map[key] = value。如果Key不存在，'[]'操作符会添加一个Key，并赋值为默认的Value，比如0.0。所以，除非确定不会产生错误，否则在修改Key对应的Value之前，要先判断Key是否存在。这与Python的DecaultDict有点相似。  \n",
    "\n",
    "最后，我们通过分别实现Python和C++版本的map条件求和函数来对比性能，C++大约快40倍左右。"
   ]
  },
  {
   "cell_type": "code",
   "execution_count": 7,
   "metadata": {},
   "outputs": [
    {
     "name": "stdout",
     "output_type": "stream",
     "text": [
      "开始遍历...\n",
      "\tKey is 0, Value is 0.0\n",
      "\tKey is 1, Value is 0.1\n",
      "\tKey is 2, Value is 0.2\n",
      "\tKey is 3, Value is 0.3\n",
      "\tKey is 4, Value is 0.4\n",
      "\tKey is 5, Value is 0.5\n",
      "\tKey is 6, Value is 0.6\n",
      "\tKey is 7, Value is 0.7\n",
      "\tKey is 8, Value is 0.8\n",
      "\tKey is 9, Value is 0.9\n",
      "\n",
      "开始查找...\n",
      "\t元素-2不存在!\n",
      "\t元素3存在, 它的值是0.3!\n",
      "\n",
      "修改元素...\n",
      "\tKey is 3, Value is 1.3\n",
      "\tKey is -2, Value is 0.0\n"
     ]
    }
   ],
   "source": [
    "%%cython --cplus --compile-args=-stdlib=libc++ --link-args=-stdlib=libc++\n",
    "from cython.operator cimport dereference as deref, preincrement as inc\n",
    "from libcpp.unordered_map cimport unordered_map\n",
    "# 通过Python对象初始化\n",
    "cdef unordered_map[int, float] mymap = {i: i/10 for i in range(10)}\n",
    "# 遍历\n",
    "cdef:\n",
    "    unordered_map[int, float].iterator it = mymap.begin()\n",
    "    unordered_map[int, float].iterator end = mymap.end()\n",
    "print(\"开始遍历...\")\n",
    "while it != end:\n",
    "    # 访问\n",
    "    print(\"\\tKey is %d, Value is %.1f\" % (deref(it).first, deref(it).second))\n",
    "    inc(it)\n",
    "print()\n",
    "\n",
    "# 查找\n",
    "print(\"开始查找...\")\n",
    "if mymap.count(-2):\n",
    "    print(\"\\t元素-2存在!\")\n",
    "else:\n",
    "    print(\"\\t元素-2不存在!\")\n",
    "\n",
    "it = mymap.find(3)\n",
    "if it != end:\n",
    "    print(\"\\t元素3存在, 它的值是%.1f!\" % deref(it).second)\n",
    "else:\n",
    "    print(\"\\t元素3不存在!\")\n",
    "print()\n",
    "\n",
    "# 修改\n",
    "print(\"修改元素...\")\n",
    "if mymap.count(3):\n",
    "    mymap[3] += 1.0\n",
    "mymap[-2]  # Key -2不存在，会被添加一个默认值0.0\n",
    "print(\"\\tKey is 3, Value is %.1f\" % mymap[3])\n",
    "print(\"\\tKey is -2, Value is %.1f\" % mymap[-2])"
   ]
  },
  {
   "cell_type": "code",
   "execution_count": 8,
   "metadata": {},
   "outputs": [
    {
     "name": "stdout",
     "output_type": "stream",
     "text": [
      "用Python来实现，计算结果为1225!\n"
     ]
    }
   ],
   "source": [
    "my_map = {x: x for x in range(100)}\n",
    "target = 50\n",
    "\n",
    "def sum_lt_py():\n",
    "    return sum(my_map[x] for x in my_map if x < target)\n",
    "\n",
    "print(\"用Python来实现，计算结果为%d!\"% sum_lt_py())"
   ]
  },
  {
   "cell_type": "code",
   "execution_count": 9,
   "metadata": {},
   "outputs": [
    {
     "name": "stdout",
     "output_type": "stream",
     "text": [
      "用Cython(C++)来实现，计算结果为1225!\n"
     ]
    }
   ],
   "source": [
    "%%cython --cplus --compile-args=-stdlib=libc++ --link-args=-stdlib=libc++\n",
    "from libcpp.unordered_map cimport unordered_map\n",
    "from cython.operator cimport dereference as deref, preincrement as inc\n",
    "\n",
    "cdef:\n",
    "    unordered_map[int, int] my_map = {x: x for x in range(100)}\n",
    "    int target = 50\n",
    "\n",
    "cdef _sum_lt_cpp():\n",
    "    cdef:\n",
    "        unordered_map[int, int].iterator it = my_map.begin()\n",
    "        int ret\n",
    "    while it != my_map.end():\n",
    "        if deref(it).first < target:\n",
    "            ret += deref(it).second\n",
    "        inc(it)\n",
    "    return ret\n",
    "\n",
    "def sum_lt_cpp():\n",
    "    return _sum_lt_cpp()\n",
    "\n",
    "print(\"用Cython(C++)来实现，计算结果为%d!\"% sum_lt_cpp())"
   ]
  },
  {
   "cell_type": "code",
   "execution_count": 10,
   "metadata": {},
   "outputs": [
    {
     "name": "stdout",
     "output_type": "stream",
     "text": [
      "对比Python版本与C++版本的性能...\n",
      "6.56 µs ± 117 ns per loop (mean ± std. dev. of 7 runs, 100000 loops each)\n",
      "162 ns ± 6.29 ns per loop (mean ± std. dev. of 7 runs, 10000000 loops each)\n"
     ]
    }
   ],
   "source": [
    "print(\"对比Python版本与C++版本的性能...\")\n",
    "%timeit sum_lt_py()\n",
    "%timeit sum_lt_cpp()"
   ]
  },
  {
   "cell_type": "markdown",
   "metadata": {},
   "source": [
    "### 3.3 使用C++ Unordered Set\n",
    "可以替代Python的Set。  \n",
    "1. 初始化 - 通过Python的可迭代对象进行初始化，需要声明变量的嵌套类型\n",
    "2. 遍历 - 让泛型指针自增，通过while循环进行遍历\n",
    "3. 访问 - 使用deref(C++中的'*'操作符)来解引用\n",
    "4. 查找 - 使用unordered_set.count，返回1或0\n",
    "5. 追加 - 使用unordered_set.insert，如果元素已经存在，则元素不会被追加\n",
    "6. 交集、并集、差集 - 据我所知，unordered_set的这些操作需要开发者自己去实现，不如Python的Set用起来方便。\n",
    " \n",
    "最后，我们通过分别实现Python和C++版本的set求交集对比性能，C++大约**慢**20倍左右。详情可参考https://stackoverflow.com/questions/54763112/how-to-improve-stdset-intersection-performance-in-c  \n",
    "如果只是求两个集合相同元素的数量，C++的性能大约是Python的6倍。不难推测，C++的unordered set查询很快，但是创建很慢。"
   ]
  },
  {
   "cell_type": "code",
   "execution_count": 11,
   "metadata": {},
   "outputs": [
    {
     "name": "stdout",
     "output_type": "stream",
     "text": [
      "开始遍历...\n",
      "\tValue is 0\n",
      "\tValue is 1\n",
      "\tValue is 2\n",
      "\tValue is 3\n",
      "\tValue is 4\n",
      "\n",
      "开始查找...\n",
      "\t元素-2不存在!\n",
      "\n",
      "追加元素...\n",
      "\tMyset is:  {0, 1, 2, 3, 4, -1}\n"
     ]
    }
   ],
   "source": [
    "%%cython --cplus --compile-args=-stdlib=libc++ --link-args=-stdlib=libc++\n",
    "from cython.operator cimport dereference as deref, preincrement as inc\n",
    "from libcpp.unordered_set cimport unordered_set\n",
    "# 通过Python对象初始化\n",
    "cdef unordered_set[int] myset = {i for i in range(5)}\n",
    "# 遍历\n",
    "cdef:\n",
    "    unordered_set[int].iterator it = myset.begin()\n",
    "    unordered_set[int].iterator end = myset.end()\n",
    "print(\"开始遍历...\")\n",
    "while it != end:\n",
    "    # 访问\n",
    "    print(\"\\tValue is %d\" % deref(it))\n",
    "    inc(it)\n",
    "print()\n",
    "\n",
    "# 查找\n",
    "print(\"开始查找...\")\n",
    "if myset.count(-2):\n",
    "    print(\"\\t元素-2存在!\")\n",
    "else:\n",
    "    print(\"\\t元素-2不存在!\")\n",
    "\n",
    "print()\n",
    "\n",
    "# 追加\n",
    "print(\"追加元素...\")\n",
    "myset.insert(0)\n",
    "myset.insert(-1)\n",
    "\n",
    "print(\"\\tMyset is: \", myset)"
   ]
  },
  {
   "cell_type": "code",
   "execution_count": 12,
   "metadata": {},
   "outputs": [
    {
     "name": "stdout",
     "output_type": "stream",
     "text": [
      "用Python来实现，计算结果为{50, 51, 52, 53, 54, 55, 56, 57, 58, 59}!\n"
     ]
    }
   ],
   "source": [
    "myset1 = {x for x in range(100)}\n",
    "myset2 = {x for x in range(50, 60)}\n",
    "\n",
    "def intersection_py():\n",
    "    return myset1 & myset2\n",
    "\n",
    "print(\"用Python来实现，计算结果为%s!\"% intersection_py())"
   ]
  },
  {
   "cell_type": "code",
   "execution_count": 13,
   "metadata": {},
   "outputs": [
    {
     "name": "stdout",
     "output_type": "stream",
     "text": [
      "用Cython(C++)来实现，计算结果为{50, 51, 52, 53, 54, 55, 56, 57, 58, 59}!\n"
     ]
    }
   ],
   "source": [
    "%%cython --cplus --compile-args=-stdlib=libc++ --link-args=-stdlib=libc++\n",
    "from cython.operator cimport dereference as deref, preincrement as inc\n",
    "from libcpp.unordered_set cimport unordered_set\n",
    "\n",
    "cdef:\n",
    "    unordered_set[int] myset1 = {x for x in range(100)}\n",
    "    unordered_set[int] myset2 = {x for x in range(50, 60)}\n",
    "\n",
    "cdef unordered_set[int] _intersection_cpp():\n",
    "    cdef:\n",
    "        unordered_set[int].iterator it = myset1.begin()\n",
    "        unordered_set[int] ret\n",
    "    while it != myset1.end():\n",
    "        if myset2.count(deref(it)):\n",
    "            ret.insert(deref(it))\n",
    "        inc(it)\n",
    "    return ret\n",
    "\n",
    "def intersection_cpp():\n",
    "    return _intersection_cpp()\n",
    "\n",
    "print(\"用Cython(C++)来实现，计算结果为%s!\"% intersection_cpp())"
   ]
  },
  {
   "cell_type": "code",
   "execution_count": 14,
   "metadata": {},
   "outputs": [
    {
     "name": "stdout",
     "output_type": "stream",
     "text": [
      "对比Python版本与C++版本的性能...\n",
      "274 ns ± 13.7 ns per loop (mean ± std. dev. of 7 runs, 1000000 loops each)\n",
      "5.28 µs ± 220 ns per loop (mean ± std. dev. of 7 runs, 100000 loops each)\n"
     ]
    }
   ],
   "source": [
    "print(\"对比Python版本与C++版本的性能...\")\n",
    "%timeit intersection_py()\n",
    "%timeit intersection_cpp()"
   ]
  },
  {
   "cell_type": "code",
   "execution_count": 15,
   "metadata": {},
   "outputs": [
    {
     "name": "stdout",
     "output_type": "stream",
     "text": [
      "用Python(C++)来实现，计算结果为10!\n"
     ]
    }
   ],
   "source": [
    "myset1 = {x for x in range(100)}\n",
    "myset2 = {x for x in range(50, 60)}\n",
    "\n",
    "def count_common_py():\n",
    "    return len(myset1 & myset2)\n",
    "\n",
    "print(\"用Python(C++)来实现，计算结果为%s!\"% count_common_py())"
   ]
  },
  {
   "cell_type": "code",
   "execution_count": 16,
   "metadata": {},
   "outputs": [
    {
     "name": "stdout",
     "output_type": "stream",
     "text": [
      "用Cython(C++)来实现，计算结果为10!\n"
     ]
    }
   ],
   "source": [
    "%%cython --cplus --compile-args=-stdlib=libc++ --link-args=-stdlib=libc++\n",
    "from cython.operator cimport dereference as deref, preincrement as inc\n",
    "from libcpp.unordered_set cimport unordered_set\n",
    "\n",
    "cdef:\n",
    "    unordered_set[int] myset2 = {x for x in range(100)}\n",
    "    unordered_set[int] myset1 = {x for x in range(50, 60)}\n",
    "\n",
    "cdef int _count_common_cpp():\n",
    "    if myset1.size() > myset2.size():\n",
    "        myset1.swap(myset2)\n",
    "    cdef:\n",
    "        unordered_set[int].iterator it = myset1.begin()\n",
    "        int ret = 0\n",
    "    while it != myset1.end():\n",
    "        if myset2.count(deref(it)):\n",
    "            ret += 1\n",
    "        inc(it)\n",
    "    return ret\n",
    "\n",
    "def count_common_cpp():\n",
    "    return _count_common_cpp()\n",
    "\n",
    "print(\"用Cython(C++)来实现，计算结果为%s!\"% count_common_cpp())"
   ]
  },
  {
   "cell_type": "code",
   "execution_count": 17,
   "metadata": {},
   "outputs": [
    {
     "name": "stdout",
     "output_type": "stream",
     "text": [
      "对比Python版本与C++版本的性能...\n",
      "295 ns ± 5.91 ns per loop (mean ± std. dev. of 7 runs, 1000000 loops each)\n",
      "46.1 ns ± 0.785 ns per loop (mean ± std. dev. of 7 runs, 10000000 loops each)\n"
     ]
    }
   ],
   "source": [
    "print(\"对比Python版本与C++版本的性能...\")\n",
    "%timeit count_common_py()\n",
    "%timeit count_common_cpp()"
   ]
  },
  {
   "cell_type": "markdown",
   "metadata": {},
   "source": [
    "## 4. 传值与传引用\n",
    "Python的函数，如果是容器类对象(如List, Set)，传递的是引用，否则传递的是值(如int, float)，如果不希望让函数修改容器类对象，可以用deepcopy函数先拷贝一份容器的副本。  \n",
    "但在C++里默认都是传值，如果需要传引用需要声明。\n",
    "以int型Vector为例，可以看到v1的值没有被pass_value修改，但被pass_reference修改了。\n",
    "- 传值使用  ``vector[int]``，pass_value函数只是传入了v1的一份拷贝，所以函数无法修改v1\n",
    "- 传引用使用  ``vector[int]&``，pass_reference传入了v1的引用，函数可以修改v1。  \n",
    "\n",
    "下面的两块代码可以展示Python与C++的不同之处。"
   ]
  },
  {
   "cell_type": "code",
   "execution_count": 18,
   "metadata": {},
   "outputs": [
    {
     "name": "stdout",
     "output_type": "stream",
     "text": [
      "v1的初始值是[0, 0, 0]\n",
      "执行pass_value函数后，v1的值是[0, 0, 0]\n",
      "执行pass_reference函数后，v1的值是[-1, 0, 0]\n"
     ]
    }
   ],
   "source": [
    "from copy import deepcopy\n",
    "\n",
    "def pass_value(v):\n",
    "    v = deepcopy(v)\n",
    "    v[0] = -1\n",
    "\n",
    "def pass_reference(v):\n",
    "    v[0] = -1\n",
    "\n",
    "v1 = [0, 0, 0]\n",
    "print(\"v1的初始值是%s\" % v1)\n",
    "pass_value(v1)\n",
    "print(\"执行pass_value函数后，v1的值是%s\" % v1)\n",
    "pass_reference(v1)\n",
    "print(\"执行pass_reference函数后，v1的值是%s\" % v1)"
   ]
  },
  {
   "cell_type": "code",
   "execution_count": 19,
   "metadata": {},
   "outputs": [
    {
     "name": "stdout",
     "output_type": "stream",
     "text": [
      "v1的初始值是[0, 0, 0]\n",
      "执行pass_value函数后，v1的值是[0, 0, 0]\n",
      "执行pass_reference函数后，v1的值是[-1, 0, 0]\n"
     ]
    }
   ],
   "source": [
    "%%cython --cplus --compile-args=-stdlib=libc++ --link-args=-stdlib=libc++\n",
    "\n",
    "from libcpp.vector cimport vector\n",
    "\n",
    "cdef void pass_value(vector[int] v):\n",
    "    v[0] = -1\n",
    "\n",
    "cdef void pass_reference(vector[int]& v):\n",
    "    v[0] = -1\n",
    "\n",
    "cdef vector[int] v1 = [0, 0, 0]\n",
    "print(\"v1的初始值是%s\" % v1)\n",
    "pass_value(v1)\n",
    "print(\"执行pass_value函数后，v1的值是%s\" % v1)\n",
    "pass_reference(v1)\n",
    "print(\"执行pass_reference函数后，v1的值是%s\" % v1)"
   ]
  },
  {
   "cell_type": "markdown",
   "metadata": {},
   "source": [
    "## 5. 数字的范围\n",
    "Python只有int型，而且int的范围可以认为是无限大的，只要没有超出内存限制，所以Python使用者一般不太关心数值溢出等问题。但使用C++的时候就需要谨慎，C++各个数字类型对应的范围如下：  \n",
    "\n",
    "\n",
    "|Type\t|Typical Bit Width\t|Typical Range|\n",
    "| ------ | ------ | ------ |\n",
    "|char\t|1byte\t|-127 to 127 or 0 to 255|\n",
    "|unsigned char\t|1byte\t|0 to 255|\n",
    "|signed char\t|1byte\t-127 to 127|\n",
    "|int\t|4bytes\t|-2147483648 to 2147483647|\n",
    "|unsigned int\t|4bytes\t|0 to 4294967295|\n",
    "|signed int\t|4bytes\t|-2147483648 to 2147483647|\n",
    "|short int\t|2bytes\t|-32768 to 32767|\n",
    "|unsigned short int\t|2bytes\t|0 to 65,535|\n",
    "|signed short int\t|2bytes\t|-32768 to 32767|\n",
    "|long int\t|4bytes\t|-2,147,483,648 to 2,147,483,647|\n",
    "|signed long int\t|8bytes\t|same as long int|\n",
    "|unsigned long int\t|4bytes\t|0 to 4,294,967,295|\n",
    "|long long int\t|8bytes\t|-(2^63) to (2^63)-1|\n",
    "|unsigned long long int\t|8bytes\t|0 to 18,446,744,073,709,551,615|\n",
    "|float\t|4bytes\t||\n",
    "|double\t|8bytes\t||\n",
    "|long double\t|12bytes||\t\n",
    "|wchar_t\t|2 or 4 bytes\t|1 wide character|\n",
    "\n",
    "\n",
    "比如下面的函数就会造成错误。"
   ]
  },
  {
   "cell_type": "code",
   "execution_count": 20,
   "metadata": {},
   "outputs": [],
   "source": [
    "%%cython --cplus --compile-args=-stdlib=libc++ --link-args=-stdlib=libc++\n",
    "def sum_py(num1, num2):\n",
    "    print(\"The result by python is:\", num1 + num2)\n",
    "\n",
    "cdef int _sum_cpp(int num1, int num2):  # int -> long int\n",
    "    return num1 + num2\n",
    "\n",
    "def sum_cpp(num1, num2):\n",
    "    print(\"The result by cpp is:\", _sum_cpp(num1, num2))"
   ]
  },
  {
   "cell_type": "code",
   "execution_count": 21,
   "metadata": {},
   "outputs": [
    {
     "name": "stdout",
     "output_type": "stream",
     "text": [
      "The result by python is: 2147483648\n",
      "The result by cpp is: -2147483648\n"
     ]
    }
   ],
   "source": [
    "sum_py(2**31-1, 1)\n",
    "sum_cpp(2**31-1, 1)"
   ]
  },
  {
   "cell_type": "code",
   "execution_count": 22,
   "metadata": {},
   "outputs": [],
   "source": [
    "%%cython --cplus --compile-args=-stdlib=libc++ --link-args=-stdlib=libc++\n",
    "from libcpp cimport bool\n",
    "\n",
    "def lt_py(num1, num2):\n",
    "    print(\"The result by python is:\", num1 < num2)\n",
    "\n",
    "cdef bool _lt_cpp(float num1, float num2):  # float -> double\n",
    "    return num1 > num2\n",
    "\n",
    "def lt_cpp(num1, num2):\n",
    "    print(\"The result by cpp is:\", _lt_cpp(num1, num2))"
   ]
  },
  {
   "cell_type": "code",
   "execution_count": 23,
   "metadata": {},
   "outputs": [
    {
     "name": "stdout",
     "output_type": "stream",
     "text": [
      "The result by python is: True\n",
      "The result by cpp is: False\n"
     ]
    }
   ],
   "source": [
    "lt_py(1234567890.0, 1234567891.0)\n",
    "lt_cpp(1234567890.0, 1234567891.0)"
   ]
  },
  {
   "cell_type": "code",
   "execution_count": null,
   "metadata": {},
   "outputs": [],
   "source": []
  }
 ],
 "metadata": {
  "kernelspec": {
   "display_name": "Python 3",
   "language": "python",
   "name": "python3"
  },
  "language_info": {
   "codemirror_mode": {
    "name": "ipython",
    "version": 3
   },
   "file_extension": ".py",
   "mimetype": "text/x-python",
   "name": "python",
   "nbconvert_exporter": "python",
   "pygments_lexer": "ipython3",
   "version": "3.6.6"
  }
 },
 "nbformat": 4,
 "nbformat_minor": 2
}
