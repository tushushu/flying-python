{
 "cells": [
  {
   "cell_type": "markdown",
   "metadata": {},
   "source": [
    "# Python多任务处理(多线程篇)\n",
    "作者: tushushu  \n",
    "项目地址: https://github.com/tushushu/flying-python"
   ]
  },
  {
   "cell_type": "markdown",
   "metadata": {},
   "source": [
    "## 1. GIL\n",
    "\n",
    "熟悉python的都知道，在C语言写的python解释器中存在全局解释器锁，由于全局解释器锁的存在，在同一时间内，python解释器只能运行一个线程的代码，这大大影响了python多线程的性能。而这个解释器锁由于历史原因，现在几乎无法消除。 \n",
    "  \n",
    "python GIL 之所以会影响多线程等性能，是因为在多线程的情况下，只有当线程获得了一个全局锁的时候，那么该线程的代码才能运行，而全局锁只有一个，所以使用python多线程，在同一时刻也只有一个线程在运行，因此在即使在多核的情况下也只能发挥出单核的性能。 \n"
   ]
  },
  {
   "cell_type": "markdown",
   "metadata": {},
   "source": [
    "## 2. 多线程处理IO密集型任务\n",
    "IO密集型任务指的是系统的CPU性能相对硬盘、内存要好很多，此时，系统运作，大部分的状况是CPU在等I/O (硬盘/内存) 的读/写操作，此时CPU Loading并不高。涉及到网络、磁盘IO的任务都是IO密集型任务。一个线程执行IO密集型任务的时候，CPU处于闲置状态，因此GIL会被释放给其他线程，从而缩短了总体的等待运行时间。"
   ]
  },
  {
   "cell_type": "code",
   "execution_count": 1,
   "metadata": {},
   "outputs": [],
   "source": [
    "from concurrent.futures import ThreadPoolExecutor\n",
    "from time import sleep, time"
   ]
  },
  {
   "cell_type": "code",
   "execution_count": 2,
   "metadata": {},
   "outputs": [],
   "source": [
    "# Worker数量\n",
    "N = 4\n",
    "# 建立线程池\n",
    "pool = ThreadPoolExecutor(max_workers=N)"
   ]
  },
  {
   "cell_type": "markdown",
   "metadata": {},
   "source": [
    "### 2.1 定义一个IO密集型函数\n",
    "该函数会“睡眠”x秒。"
   ]
  },
  {
   "cell_type": "code",
   "execution_count": 3,
   "metadata": {},
   "outputs": [],
   "source": [
    "def io_bound_func(x):\n",
    "    sleep(x)\n",
    "    print(\"Sleep for %d seconds.\" % x)"
   ]
  },
  {
   "cell_type": "markdown",
   "metadata": {},
   "source": [
    "### 2.2 使用串行的方式处理\n",
    "遍历一个列表的所有元素，执行func函数。"
   ]
  },
  {
   "cell_type": "code",
   "execution_count": 4,
   "metadata": {},
   "outputs": [],
   "source": [
    "def process_array(arr):\n",
    "    for x in arr:\n",
    "        io_bound_func(x)"
   ]
  },
  {
   "cell_type": "markdown",
   "metadata": {},
   "source": [
    "### 2.3 使用多线程处理\n",
    "通过线程池的map方法，可以将同一个函数作用在列表中的所有元素上。"
   ]
  },
  {
   "cell_type": "code",
   "execution_count": 5,
   "metadata": {},
   "outputs": [],
   "source": [
    "def fast_process_array(arr):\n",
    "    for x in pool.map(io_bound_func, arr):\n",
    "        pass"
   ]
  },
  {
   "cell_type": "markdown",
   "metadata": {},
   "source": [
    "### 2.4 计算函数运行时间\n",
    "- 串行版本的运行时间 = 1 + 2 + 3 = 6秒  \n",
    "- 多线程版本的运行时间 = max(1, 2, 3) = 3秒"
   ]
  },
  {
   "cell_type": "code",
   "execution_count": 6,
   "metadata": {},
   "outputs": [],
   "source": [
    "def time_it(fn, *args):\n",
    "    start = time()\n",
    "    fn(*args)\n",
    "    print(\"%s版本的运行时间为 %.5f 秒!\" % (fn.__name__, time() - start))"
   ]
  },
  {
   "cell_type": "code",
   "execution_count": 7,
   "metadata": {},
   "outputs": [
    {
     "name": "stdout",
     "output_type": "stream",
     "text": [
      "Sleep for 1 seconds.\n",
      "Sleep for 2 seconds.\n",
      "Sleep for 3 seconds.\n",
      "process_array版本的运行时间为 6.00883 秒!\n"
     ]
    }
   ],
   "source": [
    "time_it(process_array, [1, 2, 3])"
   ]
  },
  {
   "cell_type": "code",
   "execution_count": 8,
   "metadata": {},
   "outputs": [
    {
     "name": "stdout",
     "output_type": "stream",
     "text": [
      "Sleep for 1 seconds.\n",
      "Sleep for 2 seconds.\n",
      "Sleep for 3 seconds.\n",
      "fast_process_array版本的运行时间为 3.00300 秒!\n"
     ]
    }
   ],
   "source": [
    "time_it(fast_process_array, [1, 2, 3])"
   ]
  },
  {
   "cell_type": "markdown",
   "metadata": {},
   "source": [
    "### 3. 多线程CPU密集型任务\n",
    "CPU密集型任务的特点是要进行大量的计算，消耗CPU资源，比如计算圆周率、对视频进行高清解码等等，全靠CPU的运算能力。一个线程执行CPU密集型任务的时候，CPU处于忙碌状态，运行1000个字节码之后GIL会被释放给其他线程，加上切换线程的时间有可能会比串行代码更慢。"
   ]
  },
  {
   "cell_type": "markdown",
   "metadata": {},
   "source": [
    "### 3.1 定义一个CPU密集型函数\n",
    "该函数会对[1, x]之间的整数进行求和。"
   ]
  },
  {
   "cell_type": "code",
   "execution_count": 9,
   "metadata": {},
   "outputs": [],
   "source": [
    "def cpu_bound_func(x):\n",
    "    tot = 0\n",
    "    a = 1\n",
    "    while a <= x:\n",
    "        tot += x\n",
    "        a += 1\n",
    "    print(\"Finish sum from 1 to %d!\" % x)\n",
    "    return tot"
   ]
  },
  {
   "cell_type": "markdown",
   "metadata": {},
   "source": [
    "### 3.2 使用串行的方式处理\n",
    "遍历一个列表的所有元素，执行func函数。"
   ]
  },
  {
   "cell_type": "code",
   "execution_count": 10,
   "metadata": {},
   "outputs": [],
   "source": [
    "def process_array(arr):\n",
    "    for x in arr:\n",
    "        cpu_bound_func(x)"
   ]
  },
  {
   "cell_type": "markdown",
   "metadata": {},
   "source": [
    "### 3.3 使用多线程处理\n",
    "通过线程池的map方法，可以将同一个函数作用在列表中的所有元素上。"
   ]
  },
  {
   "cell_type": "code",
   "execution_count": 11,
   "metadata": {},
   "outputs": [],
   "source": [
    "def fast_process_array(arr):\n",
    "    for x in pool.map(cpu_bound_func, arr):\n",
    "        pass"
   ]
  },
  {
   "cell_type": "markdown",
   "metadata": {},
   "source": [
    "### 3.4 计算函数运行时间\n",
    "- 串行版本的运行时间2.1秒\n",
    "- 多线程版本的运行时间2.2秒"
   ]
  },
  {
   "cell_type": "code",
   "execution_count": 12,
   "metadata": {},
   "outputs": [],
   "source": [
    "def time_it(fn, *args):\n",
    "    start = time()\n",
    "    fn(*args)\n",
    "    print(\"%s版本的运行时间为 %.5f 秒!\" % (fn.__name__, time() - start))"
   ]
  },
  {
   "cell_type": "code",
   "execution_count": 13,
   "metadata": {},
   "outputs": [
    {
     "name": "stdout",
     "output_type": "stream",
     "text": [
      "Finish sum from 1 to 10000000!\n",
      "Finish sum from 1 to 10000000!\n",
      "Finish sum from 1 to 10000000!\n",
      "process_array版本的运行时间为 2.10489 秒!\n"
     ]
    }
   ],
   "source": [
    "time_it(process_array, [10**7, 10**7, 10**7])"
   ]
  },
  {
   "cell_type": "code",
   "execution_count": 14,
   "metadata": {},
   "outputs": [
    {
     "name": "stdout",
     "output_type": "stream",
     "text": [
      "Finish sum from 1 to 10000000!\n",
      "Finish sum from 1 to 10000000!\n",
      "Finish sum from 1 to 10000000!\n",
      "fast_process_array版本的运行时间为 2.20897 秒!\n"
     ]
    }
   ],
   "source": [
    "time_it(fast_process_array, [10**7, 10**7, 10**7])"
   ]
  },
  {
   "cell_type": "markdown",
   "metadata": {},
   "source": [
    "## 参考文章\n",
    "https://www.jianshu.com/p/c75ed8a6e9af  \n",
    "https://www.cnblogs.com/tusheng/articles/10630662.html"
   ]
  },
  {
   "cell_type": "code",
   "execution_count": null,
   "metadata": {},
   "outputs": [],
   "source": []
  }
 ],
 "metadata": {
  "kernelspec": {
   "display_name": "Python 3",
   "language": "python",
   "name": "python3"
  },
  "language_info": {
   "codemirror_mode": {
    "name": "ipython",
    "version": 3
   },
   "file_extension": ".py",
   "mimetype": "text/x-python",
   "name": "python",
   "nbconvert_exporter": "python",
   "pygments_lexer": "ipython3",
   "version": "3.6.6"
  }
 },
 "nbformat": 4,
 "nbformat_minor": 2
}
