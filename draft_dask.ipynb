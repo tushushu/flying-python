{
 "cells": [
  {
   "cell_type": "code",
   "execution_count": 7,
   "metadata": {},
   "outputs": [
    {
     "data": {
      "text/plain": [
       "1.2564841498559078"
      ]
     },
     "execution_count": 7,
     "metadata": {},
     "output_type": "execute_result"
    }
   ],
   "source": [
    "436 / 347"
   ]
  },
  {
   "cell_type": "markdown",
   "metadata": {},
   "source": [
    "### 安装Dask\n",
    "pip install distributed"
   ]
  },
  {
   "cell_type": "code",
   "execution_count": 71,
   "metadata": {},
   "outputs": [],
   "source": [
    "from dask.distributed import Client"
   ]
  },
  {
   "cell_type": "code",
   "execution_count": 72,
   "metadata": {},
   "outputs": [
    {
     "data": {
      "text/html": [
       "<table style=\"border: 2px solid white;\">\n",
       "<tr>\n",
       "<td style=\"vertical-align: top; border: 0px solid white\">\n",
       "<h3>Client</h3>\n",
       "<ul>\n",
       "  <li><b>Scheduler: </b>tcp://127.0.0.1:45193\n",
       "</ul>\n",
       "</td>\n",
       "<td style=\"vertical-align: top; border: 0px solid white\">\n",
       "<h3>Cluster</h3>\n",
       "<ul>\n",
       "  <li><b>Workers: </b>4</li>\n",
       "  <li><b>Cores: </b>4</li>\n",
       "  <li><b>Memory: </b>8.25 GB</li>\n",
       "</ul>\n",
       "</td>\n",
       "</tr>\n",
       "</table>"
      ],
      "text/plain": [
       "<Client: scheduler='tcp://127.0.0.1:45193' processes=4 cores=4>"
      ]
     },
     "execution_count": 72,
     "metadata": {},
     "output_type": "execute_result"
    }
   ],
   "source": [
    "client = Client()\n",
    "client"
   ]
  },
  {
   "cell_type": "markdown",
   "metadata": {},
   "source": [
    "### 简单的例子"
   ]
  },
  {
   "cell_type": "code",
   "execution_count": 56,
   "metadata": {},
   "outputs": [],
   "source": [
    "def square(x):\n",
    "    return x ** 2"
   ]
  },
  {
   "cell_type": "code",
   "execution_count": 57,
   "metadata": {},
   "outputs": [],
   "source": [
    "ret = client.map(square, [0, 1, 2, 3, 4])"
   ]
  },
  {
   "cell_type": "code",
   "execution_count": 58,
   "metadata": {},
   "outputs": [
    {
     "data": {
      "text/plain": [
       "[0, 1, 4, 9, 16]"
      ]
     },
     "execution_count": 58,
     "metadata": {},
     "output_type": "execute_result"
    }
   ],
   "source": [
    "client.gather(ret)"
   ]
  },
  {
   "cell_type": "code",
   "execution_count": 77,
   "metadata": {},
   "outputs": [
    {
     "name": "stdout",
     "output_type": "stream",
     "text": [
      "Help on method gather in module distributed.client:\n",
      "\n",
      "gather(futures, errors='raise', maxsize=0, direct=None, asynchronous=None) method of distributed.client.Client instance\n",
      "    Gather futures from distributed memory\n",
      "    \n",
      "    Accepts a future, nested container of futures, iterator, or queue.\n",
      "    The return type will match the input type.\n",
      "    \n",
      "    Parameters\n",
      "    ----------\n",
      "    futures: Collection of futures\n",
      "        This can be a possibly nested collection of Future objects.\n",
      "        Collections can be lists, sets, iterators, queues or dictionaries\n",
      "    errors: string\n",
      "        Either 'raise' or 'skip' if we should raise if a future has erred\n",
      "        or skip its inclusion in the output collection\n",
      "    direct: boolean\n",
      "        Whether or not to connect directly to the workers, or to ask\n",
      "        the scheduler to serve as intermediary.  This can also be set when\n",
      "        creating the Client.\n",
      "    maxsize: int\n",
      "        If the input is a queue then this produces an output queue with a\n",
      "        maximum size.\n",
      "    \n",
      "    Returns\n",
      "    -------\n",
      "    results: a collection of the same type as the input, but now with\n",
      "    gathered results rather than futures\n",
      "    \n",
      "    Examples\n",
      "    --------\n",
      "    >>> from operator import add  # doctest: +SKIP\n",
      "    >>> c = Client('127.0.0.1:8787')  # doctest: +SKIP\n",
      "    >>> x = c.submit(add, 1, 2)  # doctest: +SKIP\n",
      "    >>> c.gather(x)  # doctest: +SKIP\n",
      "    3\n",
      "    >>> c.gather([x, [x], x])  # support lists and dicts # doctest: +SKIP\n",
      "    [3, [3], 3]\n",
      "    \n",
      "    >>> seq = c.gather(iter([x, x]))  # support iterators # doctest: +SKIP\n",
      "    >>> next(seq)  # doctest: +SKIP\n",
      "    3\n",
      "    \n",
      "    See Also\n",
      "    --------\n",
      "    Client.scatter: Send data out to cluster\n",
      "\n"
     ]
    }
   ],
   "source": [
    "help(client.gather)"
   ]
  },
  {
   "cell_type": "code",
   "execution_count": null,
   "metadata": {},
   "outputs": [],
   "source": []
  }
 ],
 "metadata": {
  "kernelspec": {
   "display_name": "Python 3",
   "language": "python",
   "name": "python3"
  },
  "language_info": {
   "codemirror_mode": {
    "name": "ipython",
    "version": 3
   },
   "file_extension": ".py",
   "mimetype": "text/x-python",
   "name": "python",
   "nbconvert_exporter": "python",
   "pygments_lexer": "ipython3",
   "version": "3.6.6"
  }
 },
 "nbformat": 4,
 "nbformat_minor": 2
}
