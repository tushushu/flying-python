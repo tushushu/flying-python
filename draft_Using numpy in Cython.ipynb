{
 "cells": [
  {
   "cell_type": "markdown",
   "metadata": {},
   "source": [
    "## 在Cython中使用Numpy\n",
    "作者: tushushu  \n",
    "项目地址: https://github.com/tushushu/flying-python"
   ]
  },
  {
   "cell_type": "code",
   "execution_count": 1,
   "metadata": {},
   "outputs": [],
   "source": [
    "# 加载Cython扩展\n",
    "%load_ext Cython"
   ]
  },
  {
   "cell_type": "markdown",
   "metadata": {},
   "source": [
    "## 1. 如何导入Numpy模块\n",
    "看到下面的代码，可能会有疑问，为什么写了两行几乎一样的代码？其中第一行稍微了解Python的同学会明白，我们导入了Numpy库并重命名为'np'，方便Python调用。第二行导入的'np'是给Cython调用的，尽管名称一样，但不在一个命名空间里，所以并不会覆盖前一个'np'。Cython的官方文档和Sklearn的源码都倾向于这种方式。但是Pandas的源码喜欢使用cimport numpy as cnp，可能作者觉得这样不会造成阅读上的困扰。"
   ]
  },
  {
   "cell_type": "code",
   "execution_count": 6,
   "metadata": {},
   "outputs": [],
   "source": [
    "%%cython\n",
    "import numpy as np\n",
    "cimport numpy as np"
   ]
  },
  {
   "cell_type": "code",
   "execution_count": 7,
   "metadata": {},
   "outputs": [],
   "source": [
    "%%cython\n",
    "import numpy as np\n",
    "cimport numpy as cnp"
   ]
  },
  {
   "cell_type": "markdown",
   "metadata": {},
   "source": [
    "## 2. 数据类型\n",
    "在Cython的源码里可以找到这样一段数据类型定义的代码，Sklearn和pandas源码里会使用npy_int8或者int8_t，其实两者并没有什么区别。"
   ]
  },
  {
   "cell_type": "code",
   "execution_count": 9,
   "metadata": {},
   "outputs": [],
   "source": [
    "%%cython\n",
    "ctypedef unsigned char      npy_bool\n",
    "\n",
    "ctypedef signed char      npy_byte\n",
    "ctypedef signed short     npy_short\n",
    "ctypedef signed int       npy_int\n",
    "ctypedef signed long      npy_long\n",
    "ctypedef signed long long npy_longlong\n",
    "\n",
    "ctypedef unsigned char      npy_ubyte\n",
    "ctypedef unsigned short     npy_ushort\n",
    "ctypedef unsigned int       npy_uint\n",
    "ctypedef unsigned long      npy_ulong\n",
    "ctypedef unsigned long long npy_ulonglong\n",
    "\n",
    "ctypedef float        npy_float\n",
    "ctypedef double       npy_double\n",
    "ctypedef long double  npy_longdouble\n",
    "\n",
    "ctypedef signed char        npy_int8\n",
    "ctypedef signed short       npy_int16\n",
    "ctypedef signed int         npy_int32\n",
    "ctypedef signed long long   npy_int64\n",
    "ctypedef signed long long   npy_int96\n",
    "ctypedef signed long long   npy_int128\n",
    "\n",
    "ctypedef unsigned char      npy_uint8\n",
    "ctypedef unsigned short     npy_uint16\n",
    "ctypedef unsigned int       npy_uint32\n",
    "ctypedef unsigned long long npy_uint64\n",
    "ctypedef unsigned long long npy_uint96\n",
    "ctypedef unsigned long long npy_uint128\n",
    "\n",
    "ctypedef float        npy_float32\n",
    "ctypedef double       npy_float64\n",
    "ctypedef long double  npy_float80\n",
    "ctypedef long double  npy_float96\n",
    "ctypedef long double  npy_float128\n",
    "\n",
    "# 华丽的分割线\n",
    "ctypedef npy_int8       int8_t\n",
    "ctypedef npy_int16      int16_t\n",
    "ctypedef npy_int32      int32_t\n",
    "ctypedef npy_int64      int64_t\n",
    "\n",
    "\n",
    "ctypedef npy_uint8      uint8_t\n",
    "ctypedef npy_uint16     uint16_t\n",
    "ctypedef npy_uint32     uint32_t\n",
    "ctypedef npy_uint64     uint64_t\n",
    "\n",
    "\n",
    "ctypedef npy_float32    float32_t\n",
    "ctypedef npy_float64    float64_t"
   ]
  },
  {
   "cell_type": "markdown",
   "metadata": {},
   "source": [
    "##"
   ]
  },
  {
   "cell_type": "code",
   "execution_count": 86,
   "metadata": {},
   "outputs": [],
   "source": [
    "import numpy as np\n",
    "from typing import List"
   ]
  },
  {
   "cell_type": "code",
   "execution_count": null,
   "metadata": {},
   "outputs": [],
   "source": [
    "def binary_search(arr: List[int])"
   ]
  },
  {
   "cell_type": "code",
   "execution_count": null,
   "metadata": {},
   "outputs": [],
   "source": []
  },
  {
   "cell_type": "markdown",
   "metadata": {},
   "source": [
    "## 参考文章\n",
    "1. [Cython官方文档](http://docs.cython.org/en/latest/index.html)  \n",
    "2. [Sklearn源码](https://github.com/scikit-learn/scikit-learn)"
   ]
  },
  {
   "cell_type": "code",
   "execution_count": null,
   "metadata": {},
   "outputs": [],
   "source": []
  },
  {
   "cell_type": "code",
   "execution_count": null,
   "metadata": {},
   "outputs": [],
   "source": []
  }
 ],
 "metadata": {
  "kernelspec": {
   "display_name": "Python 3",
   "language": "python",
   "name": "python3"
  },
  "language_info": {
   "codemirror_mode": {
    "name": "ipython",
    "version": 3
   },
   "file_extension": ".py",
   "mimetype": "text/x-python",
   "name": "python",
   "nbconvert_exporter": "python",
   "pygments_lexer": "ipython3",
   "version": "3.6.10"
  }
 },
 "nbformat": 4,
 "nbformat_minor": 4
}
