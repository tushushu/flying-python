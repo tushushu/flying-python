{
 "cells": [
  {
   "cell_type": "markdown",
   "metadata": {},
   "source": [
    "### 0. MPI\n",
    "MPI(Message Passing Interface)，消息传递接口，是一个标准化和轻便的能够运行在各种各样并行计算机上的消息传递系统。消息传递指的是并行执行的各个进程拥有自己独立的堆栈和代码段，作为互不相关的多个程序独立执行，进程之间的信息交互完全通过显示地调用通信函数来完成。"
   ]
  },
  {
   "cell_type": "markdown",
   "metadata": {},
   "source": [
    "### 1. 更新编译器\n",
    "首先更新apt-get，安装gcc/g++以及gfortran三个编译器  \n",
    "1. sudo apt-get update  \n",
    "2. sudo apt-get install gcc  \n",
    "3. sudo apt-get install g++  \n",
    "4. sudo apt-get install gfortran\n",
    "\n",
    "\n",
    "http://www.mpich.org/downloads/"
   ]
  },
  {
   "cell_type": "markdown",
   "metadata": {},
   "source": [
    "### 2. 安装MPICH\n",
    "http://www.mpich.org/static/downloads/3.3/mpich-3.3.tar.gz  \n",
    "1. tar zxvf mpich-3.3.tar.gz  \n",
    "2. cd mpich-3.3  \n",
    "3. ./configure -prefix=/home/liutienan007/mpich  \n",
    "4. make  \n",
    "5. make install"
   ]
  },
  {
   "cell_type": "markdown",
   "metadata": {},
   "source": [
    "### 3.配置环境变量\n",
    "1. sudo gedit /etc/environment  \n",
    "2. :/home/liutienan007/mpich/bin  \n",
    "3. source /etc/environment  "
   ]
  },
  {
   "cell_type": "markdown",
   "metadata": {},
   "source": [
    "### 4. 测试MPICH\n",
    "1. which mpicc  \n",
    "2. which mpiexec"
   ]
  },
  {
   "cell_type": "markdown",
   "metadata": {},
   "source": [
    "### 5. 安装mpi4py\n",
    "pip install mpi4py"
   ]
  },
  {
   "cell_type": "markdown",
   "metadata": {},
   "source": [
    "### 6. 测试mpi4py"
   ]
  },
  {
   "cell_type": "code",
   "execution_count": 1,
   "metadata": {},
   "outputs": [
    {
     "name": "stdout",
     "output_type": "stream",
     "text": [
      "rank = 0, size = 1\n"
     ]
    }
   ],
   "source": [
    "from mpi4py import MPI\n",
    "comm = MPI.COMM_WORLD   #Communicator对象包含所有进程\n",
    "size = comm.Get_size()\n",
    "rank = comm.Get_rank()\n",
    "print(\"rank = %d, size = %d\"%(rank, size))"
   ]
  },
  {
   "cell_type": "code",
   "execution_count": null,
   "metadata": {},
   "outputs": [],
   "source": []
  }
 ],
 "metadata": {
  "kernelspec": {
   "display_name": "Python 3",
   "language": "python",
   "name": "python3"
  },
  "language_info": {
   "codemirror_mode": {
    "name": "ipython",
    "version": 3
   },
   "file_extension": ".py",
   "mimetype": "text/x-python",
   "name": "python",
   "nbconvert_exporter": "python",
   "pygments_lexer": "ipython3",
   "version": "3.7.2"
  }
 },
 "nbformat": 4,
 "nbformat_minor": 2
}
