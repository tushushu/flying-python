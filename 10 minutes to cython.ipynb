{
 "cells": [
  {
   "cell_type": "markdown",
   "metadata": {},
   "source": [
    "# 10分钟入门Cython\n",
    "作者: tushushu  \n",
    "项目地址: https://github.com/tushushu/flying-python"
   ]
  },
  {
   "cell_type": "markdown",
   "metadata": {},
   "source": [
    "## 1. Cython是什么? \n",
    "Cython是一个编程语言，它通过类似Python的语法来编写C扩展并可以被Python调用.既具备了Python快速开发的特点，又可以让代码运行起来像C一样快，同时还可以方便地调用C library。"
   ]
  },
  {
   "cell_type": "markdown",
   "metadata": {},
   "source": [
    "## 2. 如何安装Cython?\n",
    "跟大多数的Python库不同，Cython需要一个C编译器，在不同的平台上配置方法也不一样。\n",
    "### 2.1 配置gcc\n",
    "- **windows**  \n",
    "安装MingW-w64编译器：``conda install libpython m2w64-toolchain -c msys2``  \n",
    "在Python安装路径下找到\\Lib\\distutils文件夹，创建distutils.cfg写入如下内容：  \n",
    "``[build] compiler=mingw32``\n",
    "\n",
    "- **macOS**   \n",
    "安装XCode即可  \n",
    "\n",
    "- **linux:**  \n",
    "gcc一般都是配置好的，如果没有就执行这条命令：  ``sudo apt-get install build-essential``  \n",
    "\n",
    "\n",
    "### 2.2 安装cython库\n",
    "- 如果没安装Anaconda：  ``pip install cython`` \n",
    "- 如果安装了Anaconda：  ``conda install cython``"
   ]
  },
  {
   "cell_type": "markdown",
   "metadata": {},
   "source": [
    "## 3. 在Jupyter Notebook上使用Cython \n",
    "- 首先加载Cython扩展，使用魔术命令  ``%load_ext Cython``\n",
    "- 接下来运行Cython代码，使用魔术命令  ``%%cython``"
   ]
  },
  {
   "cell_type": "code",
   "execution_count": 1,
   "metadata": {},
   "outputs": [],
   "source": [
    "%load_ext Cython"
   ]
  },
  {
   "cell_type": "code",
   "execution_count": 2,
   "metadata": {},
   "outputs": [
    {
     "name": "stdout",
     "output_type": "stream",
     "text": [
      "5050\n"
     ]
    }
   ],
   "source": [
    "%%cython\n",
    "# 对1~100的自然数进行求和\n",
    "total = 0\n",
    "for i in range(1, 101):\n",
    "    total += i\n",
    "print(total)"
   ]
  },
  {
   "cell_type": "markdown",
   "metadata": {},
   "source": [
    "## 4. 试试Cython到底有多快\n",
    "- Python函数，运行时间261 ns\n",
    "- Cython函数，运行时间44.1 ns  \n",
    "\n",
    "运行时间竟然只有原来的五分之一左右，秘诀就在于参数x使用了静态类型int，避免了类型检查的耗时。"
   ]
  },
  {
   "cell_type": "markdown",
   "metadata": {},
   "source": [
    "### 4.1 Python函数"
   ]
  },
  {
   "cell_type": "code",
   "execution_count": 3,
   "metadata": {},
   "outputs": [],
   "source": [
    "def f(x):\n",
    "    return x ** 2 - x"
   ]
  },
  {
   "cell_type": "code",
   "execution_count": 4,
   "metadata": {},
   "outputs": [
    {
     "name": "stdout",
     "output_type": "stream",
     "text": [
      "261 ns ± 8.78 ns per loop (mean ± std. dev. of 7 runs, 1000000 loops each)\n"
     ]
    }
   ],
   "source": [
    "%timeit f(100)"
   ]
  },
  {
   "cell_type": "markdown",
   "metadata": {},
   "source": [
    "### 4.2 Cython函数"
   ]
  },
  {
   "cell_type": "code",
   "execution_count": 5,
   "metadata": {},
   "outputs": [],
   "source": [
    "%%cython\n",
    "def g(int x):\n",
    "    return x ** 2 - x"
   ]
  },
  {
   "cell_type": "code",
   "execution_count": 6,
   "metadata": {},
   "outputs": [
    {
     "name": "stdout",
     "output_type": "stream",
     "text": [
      "44.1 ns ± 1.09 ns per loop (mean ± std. dev. of 7 runs, 10000000 loops each)\n"
     ]
    }
   ],
   "source": [
    "%timeit g(100)"
   ]
  },
  {
   "cell_type": "markdown",
   "metadata": {},
   "source": [
    "## 参考文章\n",
    "部分内容引用自 - [Cython官方文档](http://docs.cython.org/en/latest/index.html)"
   ]
  },
  {
   "cell_type": "code",
   "execution_count": null,
   "metadata": {},
   "outputs": [],
   "source": []
  }
 ],
 "metadata": {
  "kernelspec": {
   "display_name": "Python 3",
   "language": "python",
   "name": "python3"
  },
  "language_info": {
   "codemirror_mode": {
    "name": "ipython",
    "version": 3
   },
   "file_extension": ".py",
   "mimetype": "text/x-python",
   "name": "python",
   "nbconvert_exporter": "python",
   "pygments_lexer": "ipython3",
   "version": "3.6.6"
  }
 },
 "nbformat": 4,
 "nbformat_minor": 2
}
