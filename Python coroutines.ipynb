{
 "cells": [
  {
   "cell_type": "markdown",
   "metadata": {},
   "source": [
    "# Python多任务处理(协程篇)\n",
    "作者: tushushu  \n",
    "项目地址: https://github.com/tushushu/flying-python"
   ]
  },
  {
   "cell_type": "markdown",
   "metadata": {},
   "source": [
    "## 1. 协程\n",
    "协程，英文名是Coroutine，又称为微线程，是一种用户态的轻量级线程。协程不像线程和进程那样，需要进行系统内核上的上下文切换，协程的上下文切换是由程序员决定的。协程通过 async/await 语法进行声明，是编写异步应用的推荐方式。\n"
   ]
  },
  {
   "cell_type": "code",
   "execution_count": 1,
   "metadata": {},
   "outputs": [],
   "source": [
    "import asyncio\n",
    "\n",
    "async def hello_world():\n",
    "    print('hello')\n",
    "    await asyncio.sleep(1)\n",
    "    print('world')\n",
    "\n",
    "# asyncio.run(main())"
   ]
  },
  {
   "cell_type": "markdown",
   "metadata": {},
   "source": [
    "## 2. 协程处理IO密集型任务\n",
    "IO密集型任务指的是系统的CPU性能相对硬盘、内存要好很多，此时，系统运作，大部分的状况是CPU在等I/O (硬盘/内存) 的读/写操作，此时CPU Loading并不高。涉及到网络、磁盘IO的任务都是IO密集型任务。"
   ]
  },
  {
   "cell_type": "code",
   "execution_count": 1,
   "metadata": {},
   "outputs": [],
   "source": [
    "import requests\n",
    "import time"
   ]
  },
  {
   "cell_type": "markdown",
   "metadata": {},
   "source": [
    "### 2.1 定义一个IO密集型函数"
   ]
  },
  {
   "cell_type": "code",
   "execution_count": 2,
   "metadata": {},
   "outputs": [],
   "source": [
    "def _sleep(n):\n",
    "    time.sleep(n)\n",
    "    print(\"Sleep for %d seconds.\" % n)"
   ]
  },
  {
   "cell_type": "markdown",
   "metadata": {},
   "source": [
    "### 2.2 使用串行的方式处理"
   ]
  },
  {
   "cell_type": "code",
   "execution_count": 3,
   "metadata": {},
   "outputs": [],
   "source": [
    "def sleep(m, n):\n",
    "    for i in range(m):\n",
    "        _sleep(n)"
   ]
  },
  {
   "cell_type": "markdown",
   "metadata": {},
   "source": [
    "### 2.3 使用协程处理\n",
    "目前Jupyter Notebook因为一些待修复的BUG无法运行协程。"
   ]
  },
  {
   "cell_type": "code",
   "execution_count": 4,
   "metadata": {},
   "outputs": [],
   "source": [
    "f = open(\"tmp.py\", \"w\")\n",
    "f.write(\n",
    "\"\"\"\n",
    "import time\n",
    "import asyncio\n",
    "\n",
    "\n",
    "async def _sleep(n):\n",
    "    await asyncio.sleep(n)\n",
    "    print(\"Sleep for %d seconds.\" % n)\n",
    "\n",
    "\n",
    "def sleep(m, n):\n",
    "    loop = asyncio.get_event_loop()\n",
    "    loop.run_until_complete(asyncio.gather(*[_sleep(n) for _ in range(m)]))\n",
    "    loop.close()\n",
    "\n",
    "\n",
    "if __name__ == '__main__':\n",
    "    start = time.perf_counter()\n",
    "    m = 3\n",
    "    n = 1\n",
    "    sleep(m, n)\n",
    "    print(\"%s函数的运行时间为 %.5f 秒!\" % (sleep.__name__, time.perf_counter() - start))\"\"\"\n",
    ")\n",
    "f.close()"
   ]
  },
  {
   "cell_type": "markdown",
   "metadata": {},
   "source": [
    "### 2.4 计算函数运行时间\n",
    "- 串行版本的运行时间 = 1 + 2 + 3 = 6秒  \n",
    "- 多线程版本的运行时间 = max(1, 2, 3) = 3秒"
   ]
  },
  {
   "cell_type": "code",
   "execution_count": 5,
   "metadata": {},
   "outputs": [],
   "source": [
    "def time_it(fn, *args):\n",
    "    start = time.perf_counter()\n",
    "    fn(*args)\n",
    "    print(\"%s函数的运行时间为 %.5f 秒!\" % (fn.__name__, time.perf_counter() - start))"
   ]
  },
  {
   "cell_type": "code",
   "execution_count": 6,
   "metadata": {},
   "outputs": [
    {
     "name": "stdout",
     "output_type": "stream",
     "text": [
      "Sleep for 1 seconds.\n",
      "Sleep for 1 seconds.\n",
      "Sleep for 1 seconds.\n",
      "sleep函数的运行时间为 3.01054 秒!\n"
     ]
    }
   ],
   "source": [
    "time_it(sleep, 3, 1)"
   ]
  },
  {
   "cell_type": "code",
   "execution_count": 7,
   "metadata": {},
   "outputs": [
    {
     "name": "stdout",
     "output_type": "stream",
     "text": [
      "Sleep for 1 seconds.\n",
      "Sleep for 1 seconds.\n",
      "Sleep for 1 seconds.\n",
      "sleep函数的运行时间为 1.00305 秒!\n",
      "\n"
     ]
    }
   ],
   "source": [
    "import subprocess\n",
    "print(str(subprocess.check_output(\"python tmp.py\", shell=True), encoding = \"utf-8\"))"
   ]
  },
  {
   "cell_type": "markdown",
   "metadata": {},
   "source": [
    "## 参考文章\n",
    "https://docs.python.org/zh-cn/3.7/library/asyncio-task.html"
   ]
  },
  {
   "cell_type": "code",
   "execution_count": null,
   "metadata": {},
   "outputs": [],
   "source": []
  }
 ],
 "metadata": {
  "kernelspec": {
   "display_name": "Python 3",
   "language": "python",
   "name": "python3"
  },
  "language_info": {
   "codemirror_mode": {
    "name": "ipython",
    "version": 3
   },
   "file_extension": ".py",
   "mimetype": "text/x-python",
   "name": "python",
   "nbconvert_exporter": "python",
   "pygments_lexer": "ipython3",
   "version": "3.6.10"
  }
 },
 "nbformat": 4,
 "nbformat_minor": 2
}
